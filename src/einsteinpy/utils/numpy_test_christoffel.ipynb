{
 "cells": [
  {
   "cell_type": "code",
   "execution_count": 1,
   "metadata": {},
   "outputs": [],
   "source": [
    "import numpy as np\n",
    "import sympy"
   ]
  },
  {
   "cell_type": "code",
   "execution_count": null,
   "metadata": {},
   "outputs": [],
   "source": []
  },
  {
   "cell_type": "code",
   "execution_count": 2,
   "metadata": {},
   "outputs": [],
   "source": [
    "#schwarzschild_christoffels\n",
    "symbolstr=\"t r theta phi\"\n",
    "list2d = [[0 for i in range(4)] for i in range(4)]\n",
    "syms = sympy.symbols(symbolstr)\n",
    "c, a = sympy.symbols(\"c a\")\n",
    "list2d[0][0] = 1 - (a / syms[1])\n",
    "list2d[1][1] = -1 / ((1 - (a / syms[1])) * (c ** 2))\n",
    "list2d[2][2] = -1 * (syms[1] ** 2) / (c ** 2)\n",
    "list2d[3][3] = -1 * (syms[1] ** 2) * (sympy.sin(syms[2]) ** 2) / (c ** 2)"
   ]
  },
  {
   "cell_type": "code",
   "execution_count": 3,
   "metadata": {},
   "outputs": [],
   "source": [
    "list2d = np.array(list2d) # Converted list to numpy"
   ]
  },
  {
   "cell_type": "code",
   "execution_count": 4,
   "metadata": {},
   "outputs": [
    {
     "name": "stdout",
     "output_type": "stream",
     "text": [
      "<class 'sympy.core.add.Add'>\n"
     ]
    }
   ],
   "source": [
    "print(type(list2d[0,0]))"
   ]
  },
  {
   "cell_type": "code",
   "execution_count": 5,
   "metadata": {},
   "outputs": [
    {
     "name": "stdout",
     "output_type": "stream",
     "text": [
      "[[[0, a/(2*r**2*(-a/r + 1)), 0, 0], [a/(2*r**2*(-a/r + 1)), 0, 0, 0], [0, 0, 0, 0], [0, 0, 0, 0]], [[a*c**2*(-a/r + 1)/(2*r**2), 0, 0, 0], [0, -a/(2*r**2*(-a/r + 1)), 0, 0], [0, 0, -r*(-a/r + 1), 0], [0, 0, 0, -r*(-a/r + 1)*sin(theta)**2]], [[0, 0, 0, 0], [0, 0, 1/r, 0], [0, 1/r, 0, 0], [0, 0, 0, -sin(theta)*cos(theta)]], [[0, 0, 0, 0], [0, 0, 0, 1/r], [0, 0, 0, cos(theta)/sin(theta)], [0, 1/r, cos(theta)/sin(theta), 0]]]\n"
     ]
    }
   ],
   "source": [
    "# christoffels\n",
    "dims = len(syms)\n",
    "christlist = (np.zeros(shape=(dims, dims, dims), dtype=int)).tolist()\n",
    "mat = sympy.Matrix(list2d)\n",
    "mat_inv = mat.inv()\n",
    "_counterlist = [i for i in range(dims ** 3)]\n",
    "for t in _counterlist:\n",
    "    # i,j,k each goes from 0 to (dims-1)\n",
    "    # hack for codeclimate. Could be done with 3 nested for loops\n",
    "    k = t % dims\n",
    "    j = (int(t / dims)) % (dims)\n",
    "    i = (int(t / (dims ** 2))) % (dims)\n",
    "    temp = 0\n",
    "    for n in range(dims):\n",
    "        temp += (mat_inv[i, n] / 2) * (\n",
    "            sympy.diff(list2d[n][j], syms[k])\n",
    "            + sympy.diff(list2d[n][k], syms[j])\n",
    "            - sympy.diff(list2d[j][k], syms[n])\n",
    "        )\n",
    "    christlist[i][j][k] = temp\n",
    "print(christlist)"
   ]
  },
  {
   "cell_type": "code",
   "execution_count": null,
   "metadata": {},
   "outputs": [],
   "source": []
  }
 ],
 "metadata": {
  "kernelspec": {
   "display_name": "Python 3",
   "language": "python",
   "name": "python3"
  },
  "language_info": {
   "codemirror_mode": {
    "name": "ipython",
    "version": 3
   },
   "file_extension": ".py",
   "mimetype": "text/x-python",
   "name": "python",
   "nbconvert_exporter": "python",
   "pygments_lexer": "ipython3",
   "version": "3.7.3"
  }
 },
 "nbformat": 4,
 "nbformat_minor": 2
}
